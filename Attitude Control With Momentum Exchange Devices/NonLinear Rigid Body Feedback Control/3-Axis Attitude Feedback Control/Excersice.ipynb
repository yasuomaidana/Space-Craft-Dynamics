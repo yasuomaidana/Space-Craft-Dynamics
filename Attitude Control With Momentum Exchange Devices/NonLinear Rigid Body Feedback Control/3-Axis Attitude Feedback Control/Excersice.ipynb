{
 "cells": [
  {
   "cell_type": "markdown",
   "metadata": {},
   "source": [
    "# 3-Axis Attitude Feedback Control\n",
    "\n",
    "Develop a numerical simulation to simulate the attitude motion of a single rigid body subject to an external control torque $\\bm{u}$.\n",
    "\n",
    "$$[\\bm{I}]\\dot{\\bm{\\omega}}_{B/N}=-[\\tilde{\\bm{\\omega}}_{B/N}][\\bm{I}]\\bm{\\omega}_{B/N}+\\bm{u}$$\n",
    "Use the following asymptotically stabilizing control torque:\n",
    "$$\\bm{u}=-K\\bm{\\sigma}_{B/R}-P\\bm{\\omega}_{B/R}+[\\bm{I}](\\bm{\\dot{\\omega}}_{R/N}-[\\bm{\\tilde{\\omega}}_{B/N}]\\bm{\\omega}_{R/N})\n",
    "+[\\bm{\\tilde{\\omega}}_{B/N}][\\bm{I}]\\bm{\\omega}_{B/N}$$\n",
    "\n",
    "The initial attitude states are:\n",
    "\n",
    "$$\\bm{\\sigma}(t_0)=(0.1,0.2,-0.1)$$\n",
    "$$\\bm{\\omega}_{B/N}(t_0)={}^{\\mathcal{B}}(30^\\circ,10^\\circ,-20^\\circ)$$\n",
    "\n",
    "The feedback gains are $K=5$ and $P=10$. The body frame $\\mathcal{B}$ is a principle body frame where the principle inertias are $I_1 =100 kgm^2$, $I_2=75 kgm^2$ and $I_3=80 kgm^2$.\n",
    "\n",
    "The reference attitude motion is defined through:\n",
    "$$\\bm{\\sigma}_{R/N}=\\begin{pmatrix}0.1\\sin{(ft)}\\\\0.2\\cos{(ft)}\\\\-0.3\\sin{(2ft)}\\end{pmatrix}$$\n",
    "\n",
    "where the frequency is $f=0.03 rad/sec$.\n",
    "\n",
    "Run the simulation and log the $\\bm{\\sigma}_{B/R}$  closed loop attitude tracking error to record the values at $t_1 = 15s$ and $t_2 =40s$.\n"
   ]
  },
  {
   "cell_type": "code",
   "execution_count": 3,
   "metadata": {},
   "outputs": [],
   "source": [
    "import numpy as np"
   ]
  },
  {
   "cell_type": "code",
   "execution_count": 5,
   "metadata": {},
   "outputs": [
    {
     "data": {
      "text/plain": [
       "array([ 0.52359878,  0.17453293, -0.34906585])"
      ]
     },
     "execution_count": 5,
     "metadata": {},
     "output_type": "execute_result"
    }
   ],
   "source": [
    "sigma = np.array((0.1,0.2,-0.1))\n",
    "w_bn = np.radians([30,10,-20])"
   ]
  }
 ],
 "metadata": {
  "kernelspec": {
   "display_name": "venv",
   "language": "python",
   "name": "python3"
  },
  "language_info": {
   "codemirror_mode": {
    "name": "ipython",
    "version": 3
   },
   "file_extension": ".py",
   "mimetype": "text/x-python",
   "name": "python",
   "nbconvert_exporter": "python",
   "pygments_lexer": "ipython3",
   "version": "3.11.0"
  }
 },
 "nbformat": 4,
 "nbformat_minor": 2
}
