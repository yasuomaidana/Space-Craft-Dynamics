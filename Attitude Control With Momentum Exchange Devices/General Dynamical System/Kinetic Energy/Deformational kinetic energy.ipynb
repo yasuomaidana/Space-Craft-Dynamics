{
 "cells": [
  {
   "cell_type": "markdown",
   "metadata": {},
   "source": [
    "# Deformational Kinetic Energy\n",
    "\n",
    "$$T_{\\text{deformation}} = \\frac{1}{2}\\sum_{i=1}^Nm_i|\\bm{v}_i - \\bm{V}_{CM}|^2$$\n",
    "\n",
    "$$\\bm{V}_{cm} = \\frac{\\sum_{i=1}^Nm_i\\bm{v}_i}{\\sum_{i=1}^Nm_i}$$"
   ]
  },
  {
   "cell_type": "markdown",
   "metadata": {},
   "source": [
    "Assume a cluster of 2 particles with inertial position vectors $R_1$  and $R_2$.  Their inertial velocities are  $R_1=(0.1,0.2,0.3)$  and $R_2 =(-0.1,0.2,-0.1)$ .  The two masses are $m_1 = 1$ and $m_2=2$.  What is the deformational kinetic energy of the cluster motion?"
   ]
  },
  {
   "cell_type": "code",
   "execution_count": 7,
   "metadata": {},
   "outputs": [
    {
     "name": "stdout",
     "output_type": "stream",
     "text": [
      "Deformational kinetic energy T:0.0667 [J]\n"
     ]
    }
   ],
   "source": [
    "import numpy as np\n",
    "v1 = np.array([0.1,0.2,0.3])\n",
    "v2 = np.array([-0.1,0.2,-0.1])\n",
    "\n",
    "m1 = 1\n",
    "m2 = 2\n",
    "Vcm = (m1*v1 + m2 *v2)/(m1+m2)\n",
    "T = 0.5 * ((v1 - Vcm)@(v1 - Vcm) + 2*(v2 - Vcm)@(v2 - Vcm))\n",
    "print(f\"Deformational kinetic energy T:{round(T,4)} [J]\")"
   ]
  }
 ],
 "metadata": {
  "kernelspec": {
   "display_name": "venv",
   "language": "python",
   "name": "python3"
  },
  "language_info": {
   "codemirror_mode": {
    "name": "ipython",
    "version": 3
   },
   "file_extension": ".py",
   "mimetype": "text/x-python",
   "name": "python",
   "nbconvert_exporter": "python",
   "pygments_lexer": "ipython3",
   "version": "3.11.0"
  }
 },
 "nbformat": 4,
 "nbformat_minor": 2
}
