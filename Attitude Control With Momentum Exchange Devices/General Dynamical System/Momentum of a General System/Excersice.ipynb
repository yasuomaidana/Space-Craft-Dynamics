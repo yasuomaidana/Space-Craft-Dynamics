{
 "cells": [
  {
   "cell_type": "markdown",
   "metadata": {},
   "source": [
    "# Momentum of a System\n",
    "![fbd](../3D%20free%20body%20diagram.jpg)\n",
    "\n",
    "$$\\bm{H}_p = \\int_B\\bm{\\sigma}\\times\\bm{\\dot{\\sigma}}dm$$\n",
    "$$\\bm{L}_P = \\int_B\\bm{\\sigma}\\times\\bm{\\ddot{R}}dm  = \\int_B\\bm{\\sigma}\\times d \\bm{F}$$\n",
    "\n",
    "$$\\bm{\\sigma} = \\bm{R} - \\bm{R}_p$$"
   ]
  },
  {
   "cell_type": "markdown",
   "metadata": {},
   "source": [
    "Where:\n",
    "* $\\bm{H}_p$ is angular momentum about P\n",
    "* $\\bm{L}_p$ is torque about P"
   ]
  },
  {
   "cell_type": "markdown",
   "metadata": {},
   "source": [
    "## Excersice\n",
    "\n",
    "A cluster consists of 2 particles with mass $m_1 =1$ and $m_2=2$.\n",
    "Their inertial position vectors are $\\bm{R}_1 = (1,2,3)$ and $\\bm{R}_2=(-1,2,-1)$.\n",
    "The inertial velocities are $\\bm{\\dot{R}}_1 = (0.1,0.2,0.3)$ and $\\bm{\\dot{R}}_2 = (-0.1,0.2,-0.1)$.\n",
    "The forces acting on the particles are $\\bm{F}_1 = (1,1,0)$ and $\\bm{F}_1 = (0,1,1)$.\n",
    "\n",
    "\n",
    "Find the angular momentum $\\bm{H}_p$ about the inertially stationary point $\\bm{R}_p = (1,1,1)$, as well as the torque $\\bm{L}_p$ about this point."
   ]
  },
  {
   "cell_type": "code",
   "execution_count": 3,
   "metadata": {},
   "outputs": [],
   "source": [
    "import numpy as np\n",
    "\n",
    "m1 = 1\n",
    "m2 = 2\n",
    "r1 = np.array([1,2,3])\n",
    "r2 = np.array([-1,2,-1])\n",
    "dr1 = np.array([0.1,0.2,0.3])\n",
    "dr2 = np.array([-0.1,0.2,-0.1])\n",
    "f1 = np.array([1,1,0])\n",
    "f2 = np.array([0,1,1])\n",
    "\n",
    "r = np.array([1,1,1])"
   ]
  },
  {
   "cell_type": "code",
   "execution_count": 8,
   "metadata": {},
   "outputs": [
    {
     "name": "stdout",
     "output_type": "stream",
     "text": [
      "HP: [ 0.5  0.2 -0.7]\n",
      "LP: [ 1  4 -3]\n"
     ]
    }
   ],
   "source": [
    "def hp(sigma, dsigma,m):\n",
    "    return np.cross(sigma,dsigma) * m\n",
    "def lp(sigma,f):\n",
    "    return np.cross(sigma,f)\n",
    "\n",
    "s1 = r1 - r\n",
    "s2 = r2 - r\n",
    "\n",
    "Hp = hp(s1, dr1,m1) + hp(s2,dr2,m2)\n",
    "print(f\"HP: {Hp}\" )\n",
    "Lp = lp(s1,f1) + lp(s2,f2)\n",
    "print(f\"LP: {Lp}\" )"
   ]
  }
 ],
 "metadata": {
  "kernelspec": {
   "display_name": "venv",
   "language": "python",
   "name": "python3"
  },
  "language_info": {
   "codemirror_mode": {
    "name": "ipython",
    "version": 3
   },
   "file_extension": ".py",
   "mimetype": "text/x-python",
   "name": "python",
   "nbconvert_exporter": "python",
   "pygments_lexer": "ipython3",
   "version": "3.11.0"
  }
 },
 "nbformat": 4,
 "nbformat_minor": 2
}
