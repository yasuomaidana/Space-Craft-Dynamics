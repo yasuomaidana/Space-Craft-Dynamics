{
 "cells": [
  {
   "cell_type": "code",
   "execution_count": 2,
   "metadata": {},
   "outputs": [
    {
     "name": "stdout",
     "output_type": "stream",
     "text": [
      "[6. 1.]\n",
      "positive definite\n"
     ]
    }
   ],
   "source": [
    "import numpy as np\n",
    "\n",
    "def semi_definite(m:np.ndarray):\n",
    "    vals = np.linalg.eigvals(m)\n",
    "       \n",
    "    if all(vals > 0):\n",
    "        print(\"positive definite\")\n",
    "    elif all(vals>=0):\n",
    "        print(\"positive semi-definite\")\n",
    "    elif all(vals<0):\n",
    "        print(\"negative definite\")\n",
    "    elif all(vals<=0):\n",
    "        print(\"negative semi-definite\")\n",
    "\n",
    "k = np.array([[5,2],[2,2]])\n",
    "semi_definite(k)"
   ]
  }
 ],
 "metadata": {
  "kernelspec": {
   "display_name": "venv",
   "language": "python",
   "name": "python3"
  },
  "language_info": {
   "codemirror_mode": {
    "name": "ipython",
    "version": 3
   },
   "file_extension": ".py",
   "mimetype": "text/x-python",
   "name": "python",
   "nbconvert_exporter": "python",
   "pygments_lexer": "ipython3",
   "version": "3.11.0"
  }
 },
 "nbformat": 4,
 "nbformat_minor": 2
}
