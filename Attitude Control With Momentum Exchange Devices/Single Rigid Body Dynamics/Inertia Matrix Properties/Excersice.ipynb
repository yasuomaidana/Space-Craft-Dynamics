{
 "cells": [
  {
   "cell_type": "markdown",
   "metadata": {},
   "source": [
    "Assume a rigid body a principle body fixed frame $\\mathcal{B}$ and the principle inertias $I_1 =\n",
    "100$, $I_2 = \n",
    "150$ and\n",
    "$I_3 = 200$. The inertial attitude is given in terms of MRPs as $\\bm{\\sigma}_{B/N} = (0.1, 0.2, 0.3)$. What is the rigid body inertia tensor expressed in inertial frame components, i.e. ${}^{\\mathcal{N}}[\\bm{I}]$?"
   ]
  },
  {
   "cell_type": "code",
   "execution_count": 135,
   "metadata": {},
   "outputs": [],
   "source": [
    "import numpy as np\n",
    "\n",
    "I1 = 100\n",
    "I2 = 150\n",
    "I3 = 200\n",
    "\n",
    "sigmaBN = np.array([0.1,0.2,0.3])\n",
    "I_B = np.diag([I1,I2,I3])"
   ]
  },
  {
   "cell_type": "code",
   "execution_count": 136,
   "metadata": {},
   "outputs": [],
   "source": [
    "skew_sigmaBN = np.array([\n",
    "    [0, -sigmaBN[2], sigmaBN[1]],\n",
    "    [sigmaBN[2],0, -sigmaBN[0]],\n",
    "    [-sigmaBN[1], sigmaBN[0],0]])\n",
    "\n",
    "s2 = sigmaBN @ sigmaBN"
   ]
  },
  {
   "cell_type": "code",
   "execution_count": 137,
   "metadata": {},
   "outputs": [],
   "source": [
    "def mdf_cs(mdf:np.ndarray):\n",
    "    c = np.zeros((3,3))\n",
    "    s1,s2,s3 = mdf\n",
    "    sq = mdf@mdf\n",
    "    den = (1 + sq)**2\n",
    "    c[0,0] = 4 * (s1**2 - s2**2-s3**2) + (1-sq)**2\n",
    "    c[0,1] = 8 * s1*s2 + 4*s3*(1-sq)\n",
    "    c[0,2] = 8 * s1*s3 - 4*s2*(1-sq)\n",
    "    \n",
    "    c[1,0] = 8 * s2*s1 - 4*s3*(1-sq)\n",
    "    c[1,1] = 4 * (-s1**2 + s2**2-s3**2) + (1-sq)**2\n",
    "    c[1,2] = 8 * s2*s3 + 4*s1*(1-sq)\n",
    "    \n",
    "    c[2,0] = 8 * s3*s1 + 4*s2*(1-sq)\n",
    "    c[2,1] = 8 * s2*s3 - 4*s1*(1-sq)\n",
    "    c[2,2] = 4 * (-s1**2 - s2**2+s3**2) + (1-sq)**2\n",
    "    \n",
    "    return c/den"
   ]
  },
  {
   "cell_type": "code",
   "execution_count": 138,
   "metadata": {},
   "outputs": [
    {
     "data": {
      "text/plain": [
       "array([[3.05311332e-16, 0.00000000e+00, 0.00000000e+00],\n",
       "       [0.00000000e+00, 3.33066907e-16, 0.00000000e+00],\n",
       "       [0.00000000e+00, 0.00000000e+00, 3.33066907e-16]])"
      ]
     },
     "execution_count": 138,
     "metadata": {},
     "output_type": "execute_result"
    }
   ],
   "source": [
    "RN = mdf_cs(sigmaBN)\n",
    "RN2 = np.identity(3) + (8 * np.matmul(skew_sigmaBN,skew_sigmaBN) - 4*(1-s2)*skew_sigmaBN)/((1+s2)**2)\n",
    "RN2 - RN"
   ]
  },
  {
   "cell_type": "code",
   "execution_count": 139,
   "metadata": {},
   "outputs": [
    {
     "data": {
      "text/plain": [
       "array([[  19.97537704, -100.64635272,  142.81317328],\n",
       "       [  91.72052939,   57.66389658,   20.92951677],\n",
       "       [ -34.47214528,   95.10618652,  138.44259772]])"
      ]
     },
     "execution_count": 139,
     "metadata": {},
     "output_type": "execute_result"
    }
   ],
   "source": [
    "np.matmul(RN.T, I_B, RN)"
   ]
  }
 ],
 "metadata": {
  "kernelspec": {
   "display_name": "venv",
   "language": "python",
   "name": "python3"
  },
  "language_info": {
   "codemirror_mode": {
    "name": "ipython",
    "version": 3
   },
   "file_extension": ".py",
   "mimetype": "text/x-python",
   "name": "python",
   "nbconvert_exporter": "python",
   "pygments_lexer": "ipython3",
   "version": "3.11.0"
  }
 },
 "nbformat": 4,
 "nbformat_minor": 2
}
