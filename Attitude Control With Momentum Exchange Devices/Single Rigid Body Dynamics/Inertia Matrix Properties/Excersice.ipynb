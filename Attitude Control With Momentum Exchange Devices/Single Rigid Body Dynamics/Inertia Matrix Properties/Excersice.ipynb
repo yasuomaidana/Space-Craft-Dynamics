{
 "cells": [
  {
   "cell_type": "markdown",
   "metadata": {},
   "source": [
    "Assume a rigid body a principle body fixed frame $\\mathcal{B}$ and the principle inertias $I_1 =\n",
    "100$, $I_2 = \n",
    "150$ and\n",
    "$I_3 = 200$. The inertial attitude is given in terms of MRPs as $\\bm{\\sigma}_{B/N} = (0.1, 0.2, 0.3)$. What is the rigid body inertia tensor expressed in inertial frame components, i.e. ${}^{\\mathcal{N}}[\\bm{I}]$?"
   ]
  },
  {
   "cell_type": "code",
   "execution_count": 1,
   "metadata": {},
   "outputs": [],
   "source": [
    "import numpy as np\n",
    "\n",
    "I1 = 100\n",
    "I2 = 150\n",
    "I3 = 200\n",
    "\n",
    "sigmaBN = np.array([0.1,0.2,0.3])\n",
    "I_B = np.diag([I1,I2,I3])"
   ]
  },
  {
   "cell_type": "code",
   "execution_count": 2,
   "metadata": {},
   "outputs": [],
   "source": [
    "def formatter(a:np.array):\n",
    "    for i in a:\n",
    "        print(\",\".join(str(j) for j in i),end=\",\\n\")\n",
    "        "
   ]
  },
  {
   "cell_type": "code",
   "execution_count": 3,
   "metadata": {},
   "outputs": [],
   "source": [
    "def skew_operator(a:np.array):\n",
    "    return np.array([\n",
    "    [0, -a[2], a[1]],\n",
    "    [a[2],0, -a[0]],\n",
    "    [-a[1], a[0],0]])"
   ]
  },
  {
   "cell_type": "code",
   "execution_count": 4,
   "metadata": {},
   "outputs": [],
   "source": [
    "skew_sigmaBN = np.array([\n",
    "    [0, -sigmaBN[2], sigmaBN[1]],\n",
    "    [sigmaBN[2],0, -sigmaBN[0]],\n",
    "    [-sigmaBN[1], sigmaBN[0],0]])\n",
    "\n",
    "s2 = sigmaBN @ sigmaBN"
   ]
  },
  {
   "cell_type": "code",
   "execution_count": 5,
   "metadata": {},
   "outputs": [],
   "source": [
    "def mdf_cs(mdf:np.ndarray):\n",
    "    c = np.zeros((3,3))\n",
    "    s1,s2,s3 = mdf\n",
    "    sq = mdf@mdf\n",
    "    den = (1 + sq)**2\n",
    "    c[0,0] = 4 * (s1**2 - s2**2-s3**2) + (1-sq)**2\n",
    "    c[0,1] = 8 * s1*s2 + 4*s3*(1-sq)\n",
    "    c[0,2] = 8 * s1*s3 - 4*s2*(1-sq)\n",
    "    \n",
    "    c[1,0] = 8 * s2*s1 - 4*s3*(1-sq)\n",
    "    c[1,1] = 4 * (-s1**2 + s2**2-s3**2) + (1-sq)**2\n",
    "    c[1,2] = 8 * s2*s3 + 4*s1*(1-sq)\n",
    "    \n",
    "    c[2,0] = 8 * s3*s1 + 4*s2*(1-sq)\n",
    "    c[2,1] = 8 * s2*s3 - 4*s1*(1-sq)\n",
    "    c[2,2] = 4 * (-s1**2 - s2**2+s3**2) + (1-sq)**2\n",
    "    \n",
    "    return c/den"
   ]
  },
  {
   "cell_type": "markdown",
   "metadata": {},
   "source": [
    "From $\\bm{\\sigma}_{B/N}$ we can get cosine rotation matrix $[BN]$ however since we want to obtain the inertia on $N$ reference, then $[NB] = [BN]^T$\n",
    "\n",
    "Finally\n",
    "\n",
    "$${}^{\\mathcal{N}}[I] = [NB]\\ {}^{\\mathcal{B}}[I][NB]^{T}$$"
   ]
  },
  {
   "cell_type": "code",
   "execution_count": 6,
   "metadata": {},
   "outputs": [],
   "source": [
    "BN = mdf_cs(sigmaBN)\n",
    "BN = np.identity(3) + (8 * np.matmul(skew_sigmaBN,skew_sigmaBN) - 4*(1-s2)*skew_sigmaBN)/((1+s2)**2)\n",
    "NB = BN.T"
   ]
  },
  {
   "cell_type": "code",
   "execution_count": 7,
   "metadata": {},
   "outputs": [
    {
     "name": "stdout",
     "output_type": "stream",
     "text": [
      "173.49942464006958,-5.424497401999111,28.157253869149894,\n",
      "-5.424497401999112,108.48427827924608,19.430937909157088,\n",
      "28.157253869149873,19.43093790915709,168.01629708068424,\n"
     ]
    }
   ],
   "source": [
    "formatter(np.matmul(np.matmul(NB, I_B), NB.T))"
   ]
  },
  {
   "cell_type": "markdown",
   "metadata": {},
   "source": [
    "A rigid body of mass $m=10 kg$ has a principle body-fixed frame $B$ with principle inertias $I_1​ =1000 kgm^2$, $I_2 =1500kgm^2$ and $I_3 =2000kgm^2$. The center of mass $C$ of the body is the origin of the $B$ frame.  The inertial attitude is given in terms of MRPs as $\\bm{\\sigma}_{B/N}=(0.1,0.2,0.3)$.\n",
    "\n",
    "\n",
    "What is the inertia of this rigid body about the body fixed point $O$ if $\\bm{R}_{C/O} =\\ {}^{\\mathcal{N}}(10,15,20)m$.  Express the inertia tensor in body frame components.\n"
   ]
  },
  {
   "cell_type": "markdown",
   "metadata": {},
   "source": [
    "Applying \n",
    "$$[\\bm{I}_O] = [\\bm{I}_C] + M [\\bm{\\tilde{R}}_C][\\bm{\\tilde{R}}_C]^T$$"
   ]
  },
  {
   "cell_type": "code",
   "execution_count": 8,
   "metadata": {},
   "outputs": [
    {
     "name": "stdout",
     "output_type": "stream",
     "text": [
      "7464.79346203169,-1040.078198173721,-1998.608374516068,\n",
      "-1040.078198173721,7372.320872269713,-2647.3404085505476,\n",
      "-1998.6083745160686,-2647.340408550548,4162.885665698588,\n"
     ]
    }
   ],
   "source": [
    "I1 = 1000\n",
    "I2 = 1500\n",
    "I3 = 2000\n",
    "M = 10\n",
    "R = np.array([10,15,20])\n",
    "sigmaBN = np.array([0.1,0.2,0.3])\n",
    "I_B = np.diag([I1,I2,I3])\n",
    "\n",
    "\n",
    "BN = mdf_cs(sigmaBN)\n",
    "NB = BN.T\n",
    "I_CO = np.matmul(np.matmul(NB, I_B), NB.T)\n",
    "\n",
    "# Calculate inertia about o\n",
    "I_o = I_CO + M * np.matmul(skew_operator(R), skew_operator(R).T)\n",
    "\n",
    "# Returning to body frame\n",
    "formatter(np.matmul(np.matmul(BN, I_o), BN.T))"
   ]
  }
 ],
 "metadata": {
  "kernelspec": {
   "display_name": "venv",
   "language": "python",
   "name": "python3"
  },
  "language_info": {
   "codemirror_mode": {
    "name": "ipython",
    "version": 3
   },
   "file_extension": ".py",
   "mimetype": "text/x-python",
   "name": "python",
   "nbconvert_exporter": "python",
   "pygments_lexer": "ipython3",
   "version": "3.11.0"
  }
 },
 "nbformat": 4,
 "nbformat_minor": 2
}
