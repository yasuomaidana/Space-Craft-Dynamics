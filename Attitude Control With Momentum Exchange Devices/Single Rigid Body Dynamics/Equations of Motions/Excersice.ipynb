{
 "cells": [
  {
   "cell_type": "markdown",
   "metadata": {},
   "source": [
    "A rigid body has a principle body-fixed frame $B$ with the principle inertias $I_1 =100 kgm^2$, $I_2=150 kgm^2$, $I_3=200 kgm^2$.\n",
    "The inertial attitude is $\\bm{\\sigma}_{B/N}=(0.5,0.5,0.3)$.\n",
    "The body fixed gryo coordinate frame orientation is given by $\\bm{\\sigma}_{G/B} =(−0.2,0.3,0.1)$.\n",
    "The current body angular rate relative to inertial frame is measured to be ${}^G \\bm{\\omega}_{G/N}=(0.1,0.2,0.3) rad/sec$. \n",
    "An inertial disturbance torque is given by ${}^N\\bm{L}_C =(1,1,1)Nm$.  \n",
    "\n",
    "What is the inertial angular acceration ${}^B \\bm{\\dot{\\omega}}_{B/N}$?"
   ]
  },
  {
   "cell_type": "code",
   "execution_count": 1,
   "metadata": {},
   "outputs": [],
   "source": [
    "import numpy as np\n",
    "\n",
    "def formatter(a:np.array):\n",
    "    for i in a:\n",
    "        print(\",\".join(str(j) for j in i),end=\",\\n\")\n",
    "        \n",
    "def skew_operator(a:np.array):\n",
    "    return np.array([\n",
    "    [0, -a[2], a[1]],\n",
    "    [a[2],0, -a[0]],\n",
    "    [-a[1], a[0],0]])\n",
    "    \n",
    "def mrp_crm(a:np.array):\n",
    "    s2 = a @ a\n",
    "    skew_sigmaBN = skew_operator(a)\n",
    "    return np.identity(3) + (8 * np.matmul(skew_sigmaBN,skew_sigmaBN) - 4*(1-s2)*skew_sigmaBN)/((1+s2)**2)\n",
    "\n",
    "def bI_fI(fb:np.ndarray,bI:np.ndarray):\n",
    "    return np.matmul(np.matmul(fb,bI),fb.T)"
   ]
  },
  {
   "cell_type": "code",
   "execution_count": 2,
   "metadata": {},
   "outputs": [],
   "source": [
    "gW_gn = np.array([0.1,0.2,0.3])\n",
    "bI = np.diag([100,150,200])\n",
    "s_bn = np.array([0.5,0.5,0.3])\n",
    "s_gb = np.array([-0.2,0.3,0.1])\n",
    "nL_c = np.array([1,1,1])\n",
    "\n",
    "in_bI = np.linalg.inv(bI)\n",
    "BN = mrp_crm(s_bn)\n",
    "GB = mrp_crm(s_gb)"
   ]
  },
  {
   "cell_type": "code",
   "execution_count": 3,
   "metadata": {},
   "outputs": [],
   "source": [
    "bW_bn = np.matmul(GB.T,gW_gn)\n",
    "bL_c = np.matmul(BN,nL_c)"
   ]
  },
  {
   "cell_type": "code",
   "execution_count": 4,
   "metadata": {},
   "outputs": [],
   "source": [
    "b_dW = np.matmul(in_bI,\n",
    "                 (-np.matmul(np.matmul(skew_operator(bW_bn),bI),bW_bn))+bL_c)"
   ]
  },
  {
   "cell_type": "code",
   "execution_count": 6,
   "metadata": {},
   "outputs": [
    {
     "data": {
      "text/plain": [
       "array([ 0.02783751,  0.0012133 , -0.00782527])"
      ]
     },
     "execution_count": 6,
     "metadata": {},
     "output_type": "execute_result"
    }
   ],
   "source": [
    "b_dW"
   ]
  }
 ],
 "metadata": {
  "kernelspec": {
   "display_name": "venv",
   "language": "python",
   "name": "python3"
  },
  "language_info": {
   "codemirror_mode": {
    "name": "ipython",
    "version": 3
   },
   "file_extension": ".py",
   "mimetype": "text/x-python",
   "name": "python",
   "nbconvert_exporter": "python",
   "pygments_lexer": "ipython3",
   "version": "3.11.0"
  }
 },
 "nbformat": 4,
 "nbformat_minor": 2
}
