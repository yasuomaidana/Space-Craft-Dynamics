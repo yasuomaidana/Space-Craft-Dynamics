{
 "cells": [
  {
   "cell_type": "markdown",
   "metadata": {},
   "source": [
    "A rigid body has a principle body-fixed frame $B$ with the principle inertias $I_1 =100 kgm^2$, $I_2=150 kgm^2$, $I_3=200 kgm^2$.\n",
    "The inertial attitude is $\\bm{\\sigma}_{B/N}=(0.5,0.5,0.3)$.\n",
    "The body fixed gryo coordinate frame orientation is given by $\\bm{\\sigma}_{G/B} =(−0.2,0.3,0.1)$.\n",
    "The current body angular rate relative to inertial frame is measured to be ${}^G \\bm{\\omega}_{G/N}=(0.1,0.2,0.3) rad/sec$. \n",
    "An inertial disturbance torque is given by ${}^N\\bm{L}_C =(1,1,1)Nm$.  \n",
    "\n",
    "What is the inertial angular acceration ${}^B \\bm{\\dot{\\omega}}_{B/N}$?"
   ]
  },
  {
   "cell_type": "code",
   "execution_count": null,
   "metadata": {},
   "outputs": [],
   "source": []
  }
 ],
 "metadata": {
  "language_info": {
   "name": "python"
  }
 },
 "nbformat": 4,
 "nbformat_minor": 2
}
