{
 "cells": [
  {
   "cell_type": "markdown",
   "metadata": {},
   "source": [
    "Consider a rigid 2-mass dumbell system where the masses $m_1=1$ and $m_2=2$  are at the inertial locations $\\bm{R}_1$ and $\\bm{R}_2$. Assume the first mass position vector is $\\bm{R}_1 = (1,2,3)$ and the center of mass is at $\\bm{R}_C = (-1,2,-1)$. The inertial point 1 and the center of mass intertial velocities are $\\bm{\\dot{R}}_1 = (0.1,0.2,0.3)$ and $\\bm{\\dot{R}}_C = (-0.1,0.2,0.0)$. What is the position vector $\\bm{R}_2$ and the inertial rotational angular momentum of the center of mass about the inertial frame origin.  "
   ]
  },
  {
   "cell_type": "markdown",
   "metadata": {},
   "source": [
    "# Finding R2\n",
    "$$\\bm{R}_c = \\frac{1}{M}\\int_B \\bm{r}dm$$"
   ]
  },
  {
   "cell_type": "code",
   "execution_count": 26,
   "metadata": {},
   "outputs": [],
   "source": [
    "import numpy as np\n",
    "import sympy as sp\n",
    "\n",
    "\n",
    "i,j,k = sp.symbols('i j k')\n",
    "ri,rj,rk = sp.symbols('i j k')\n",
    "\n",
    "Rc = np.array([-1,2,-1])\n",
    "R1 = np.array([1,2,3])\n",
    "m1 = 1\n",
    "m2 = 2\n",
    "M = m1 + m2\n",
    "dRc = np.array([-0.1,0.2,0.0])\n",
    "dR1 = np.array([0.1,0.2,0.3])\n",
    "omega = sp.Matrix([i,j,k])"
   ]
  },
  {
   "cell_type": "markdown",
   "metadata": {},
   "source": [
    "## Finding R2\n",
    "\n",
    "$$CM = \\frac{\\int_B \\bm{{r}}dm}{\\int_B dm} = \\frac{\\sum \\bm{r}_i m_i}{M}$$"
   ]
  },
  {
   "cell_type": "code",
   "execution_count": 27,
   "metadata": {},
   "outputs": [
    {
     "data": {
      "text/plain": [
       "array([-2.,  2., -3.])"
      ]
     },
     "execution_count": 27,
     "metadata": {},
     "output_type": "execute_result"
    }
   ],
   "source": [
    "(Rc * M - R1*m1)/m2"
   ]
  },
  {
   "cell_type": "markdown",
   "metadata": {},
   "source": [
    "$$\\bm{H}_c = \\int_B \\bm{r} \\times \\bm{\\dot{r}}dm =  (\\bm{R}_{CM} \\times \\bm{\\dot{R}}_{CM}) M$$"
   ]
  },
  {
   "cell_type": "code",
   "execution_count": 28,
   "metadata": {},
   "outputs": [
    {
     "data": {
      "text/plain": [
       "array([0.6, 0.3, 0. ])"
      ]
     },
     "execution_count": 28,
     "metadata": {},
     "output_type": "execute_result"
    }
   ],
   "source": [
    "Hc = np.cross(Rc,dRc) * 3\n",
    "Hc"
   ]
  }
 ],
 "metadata": {
  "kernelspec": {
   "display_name": "venv",
   "language": "python",
   "name": "python3"
  },
  "language_info": {
   "codemirror_mode": {
    "name": "ipython",
    "version": 3
   },
   "file_extension": ".py",
   "mimetype": "text/x-python",
   "name": "python",
   "nbconvert_exporter": "python",
   "pygments_lexer": "ipython3",
   "version": "3.11.0"
  }
 },
 "nbformat": 4,
 "nbformat_minor": 2
}
