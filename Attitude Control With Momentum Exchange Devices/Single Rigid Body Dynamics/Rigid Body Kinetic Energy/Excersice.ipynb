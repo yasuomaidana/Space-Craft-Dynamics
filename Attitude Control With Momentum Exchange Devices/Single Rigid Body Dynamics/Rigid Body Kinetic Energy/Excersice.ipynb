{
 "cells": [
  {
   "cell_type": "markdown",
   "metadata": {},
   "source": [
    "Assumig a rigid body has a body-fixed frame $\\mathcal{B}$. If the body rate is ${}^{\\mathcal{B}} \\bm{\\omega}=(0.1,0.2,0.3) rad/sec$ and the external torque is ${}^{\\mathcal{B}}  \\bm{L}=(1,−1,0) Nm$, what is the current rotation energy rate $\\dot{T}$ of this rigid body?"
   ]
  },
  {
   "cell_type": "code",
   "execution_count": 1,
   "metadata": {},
   "outputs": [
    {
     "data": {
      "text/plain": [
       "-0.1"
      ]
     },
     "execution_count": 1,
     "metadata": {},
     "output_type": "execute_result"
    }
   ],
   "source": [
    "import numpy as np\n",
    "\n",
    "L = np.array([1,-1,0])\n",
    "w = np.array([0.1,0.2,0.3])\n",
    "\n",
    "L@w"
   ]
  }
 ],
 "metadata": {
  "kernelspec": {
   "display_name": "venv",
   "language": "python",
   "name": "python3"
  },
  "language_info": {
   "codemirror_mode": {
    "name": "ipython",
    "version": 3
   },
   "file_extension": ".py",
   "mimetype": "text/x-python",
   "name": "python",
   "nbconvert_exporter": "python",
   "pygments_lexer": "ipython3",
   "version": "3.11.0"
  }
 },
 "nbformat": 4,
 "nbformat_minor": 2
}
