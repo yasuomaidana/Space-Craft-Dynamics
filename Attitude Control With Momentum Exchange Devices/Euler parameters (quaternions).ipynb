{
 "cells": [
  {
   "cell_type": "markdown",
   "metadata": {},
   "source": [
    "# Euler parameters\n",
    "\n",
    "They provide a redundant, nonsingular attitude description and are well suited to describe arbitrary, large rotations.\n",
    "\n",
    "<table>\n",
    "    <tr>\n",
    "        <th>Major Benefits</th>\n",
    "        <th>Drawbacks</th>\n",
    "    </tr>\n",
    "    <tr>\n",
    "        <td>\n",
    "            <ul>\n",
    "                <li>Non-singular attitude description</li>\n",
    "                <li>Linear differential kinematic equations</li>\n",
    "                <li>Works well for small and large rotation</li>\n",
    "            </ul>\n",
    "        </td>\n",
    "        <td>\n",
    "            <ul>\n",
    "                <li>Constraint equation must be identified as all times</li>\n",
    "                <li>Not as simple to visualize</li>\n",
    "            </ul>\n",
    "        </td>\n",
    "    </tr>\n",
    "</table>\n"
   ]
  },
  {
   "cell_type": "markdown",
   "metadata": {},
   "source": [
    "## Definition of EP\n",
    "$$\\beta_0 = \\cos{(\\frac{\\phi}{2})}$$\n",
    "$$\\beta_1 = e_1\\sin{(\\frac{\\phi}{2})}$$\n",
    "$$\\beta_2 = e_1\\sin{(\\frac{\\phi}{2})}$$\n",
    "$$\\beta_3 = e_1\\sin{(\\frac{\\phi}{2})}$$\n",
    "\n",
    "$$\\Sigma e_i^2 = \\Sigma \\beta_i^2 = 1$$"
   ]
  },
  {
   "cell_type": "markdown",
   "metadata": {},
   "source": [
    "![](../)"
   ]
  },
  {
   "cell_type": "markdown",
   "metadata": {},
   "source": [
    "<div style=\"display: flex; height: 4vh;\">\n",
    "    <div style=\"flex: 50%; padding: 10px;\">\n",
    "        <img src=\"./media/quaternions_rotation_example.jpeg\" alt=\"Rotation using Quaternions\">\n",
    "        <figcaption>Figure 1: Position transformation using quaternions.</figcaption>\n",
    "    </div>\n",
    "    <div style=\"flex: 50%; padding: 10px;\">\n",
    "        <img src=\"./media/quaternion_unit_sphere.png\" alt=\"Quaternion unit sphere\" style=\"max-height: 3vh\">\n",
    "        <figcaption>Figure 1: Here it can be appreciated how the negative quaternion is radialy oposed.</figcaption>\n",
    "    </div>\n",
    "</div>"
   ]
  },
  {
   "cell_type": "markdown",
   "metadata": {},
   "source": [
    "## Rotation cosine matrix relation\n",
    "\n",
    "$$\n",
    "[C] = \\begin{bmatrix}\n",
    " \\beta_0^2 + \\beta_1^2 - \\beta_2^2 - \\beta_3^2 &&  2(\\beta_1 \\beta_2 + \\beta_0 \\beta_3) && 2(\\beta_1 \\beta_3 - \\beta_0 \\beta_2) \\\\\n",
    "   2(\\beta_1 \\beta_2 - \\beta_0 \\beta_3) &&  \\beta_0^2 - \\beta_1^2 + \\beta_2^2 - \\beta_3^2 && 2(\\beta_2 \\beta_3 + \\beta_0 \\beta_1) \\\\\n",
    "   2(\\beta_1 \\beta_3 + \\beta_0 \\beta_2) && 2(\\beta_2 \\beta_3 - \\beta_0 \\beta_1) && \\beta_0^2 - \\beta_1^2 - \\beta_2^2 + \\beta_3^2 \\\\\n",
    "\n",
    "\\end{bmatrix}\n",
    "$$\n",
    "\n",
    "Inverse relationship\n",
    "\n",
    "$$\\beta_0 = \\pm \\frac{1}{2}\\sqrt{C_{11}+C_{22}+C_{33}+1}$$\n",
    "$$\\beta_1 = \\frac{C_{23}-C_{32}}{4\\beta_0}$$\n",
    "$$\\beta_2 = \\frac{C_{31}-C_{13}}{4\\beta_0}$$\n",
    "$$\\beta_3 = \\frac{C_{12}-C_{21}}{4\\beta_0}$$"
   ]
  },
  {
   "cell_type": "markdown",
   "metadata": {},
   "source": [
    "## Sheppard's method \n",
    "\n",
    "It is a robust method to compute the EP from $[C]$\n",
    "1.0\n",
    "$$\\beta_0^2 = \\frac{1}{4}(1+trace([C]))$$\n",
    "$$\\beta_1^2 = \\frac{1}{4}(1+ 2C_{11} - trace([C]))$$\n",
    "$$\\beta_2^2 = \\frac{1}{4}(1+ 2C_{22} - trace([C]))$$\n",
    "$$\\beta_3^2 = \\frac{1}{4}(1+ 2C_{33} - trace([C]))$$"
   ]
  },
  {
   "cell_type": "code",
   "execution_count": null,
   "metadata": {},
   "outputs": [],
   "source": [
    "\n"
   ]
  }
 ],
 "metadata": {
  "kernelspec": {
   "display_name": "venv",
   "language": "python",
   "name": "python3"
  },
  "language_info": {
   "codemirror_mode": {
    "name": "ipython",
    "version": 3
   },
   "file_extension": ".py",
   "mimetype": "text/x-python",
   "name": "python",
   "nbconvert_exporter": "python",
   "pygments_lexer": "ipython3",
   "version": "3.11.0"
  }
 },
 "nbformat": 4,
 "nbformat_minor": 2
}
