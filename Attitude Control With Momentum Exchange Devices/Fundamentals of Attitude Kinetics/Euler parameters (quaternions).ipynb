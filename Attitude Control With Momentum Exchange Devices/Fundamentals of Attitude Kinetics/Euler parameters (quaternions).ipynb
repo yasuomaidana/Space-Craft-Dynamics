{
 "cells": [
  {
   "cell_type": "markdown",
   "metadata": {},
   "source": [
    "# Euler parameters\n",
    "\n",
    "They provide a redundant, nonsingular attitude description and are well suited to describe arbitrary, large rotations.\n",
    "\n",
    "<table>\n",
    "    <tr>\n",
    "        <th>Major Benefits</th>\n",
    "        <th>Drawbacks</th>\n",
    "    </tr>\n",
    "    <tr>\n",
    "        <td>\n",
    "            <ul>\n",
    "                <li>Non-singular attitude description</li>\n",
    "                <li>Linear differential kinematic equations</li>\n",
    "                <li>Works well for small and large rotation</li>\n",
    "            </ul>\n",
    "        </td>\n",
    "        <td>\n",
    "            <ul>\n",
    "                <li>Constraint equation must be identified as all times</li>\n",
    "                <li>Not as simple to visualize</li>\n",
    "            </ul>\n",
    "        </td>\n",
    "    </tr>\n",
    "</table>\n"
   ]
  },
  {
   "cell_type": "markdown",
   "metadata": {},
   "source": [
    "## Definition of EP\n",
    "$$\\beta_0 = \\cos{(\\frac{\\phi}{2})}$$\n",
    "$$\\beta_1 = e_1\\sin{(\\frac{\\phi}{2})}$$\n",
    "$$\\beta_2 = e_1\\sin{(\\frac{\\phi}{2})}$$\n",
    "$$\\beta_3 = e_1\\sin{(\\frac{\\phi}{2})}$$\n",
    "\n",
    "$$\\Sigma e_i^2 = \\Sigma \\beta_i^2 = 1$$"
   ]
  },
  {
   "cell_type": "markdown",
   "metadata": {},
   "source": [
    "![](../)"
   ]
  },
  {
   "cell_type": "markdown",
   "metadata": {},
   "source": [
    "<div style=\"display: flex; height: 4vh;\">\n",
    "    <div style=\"flex: 50%; padding: 10px;\">\n",
    "        <img src=\"./media/quaternions_rotation_example.jpeg\" alt=\"Rotation using Quaternions\">\n",
    "        <figcaption>Figure 1: Position transformation using quaternions.</figcaption>\n",
    "    </div>\n",
    "    <div style=\"flex: 50%; padding: 10px;\">\n",
    "        <img src=\"./media/quaternion_unit_sphere.png\" alt=\"Quaternion unit sphere\" style=\"max-height: 3vh\">\n",
    "        <figcaption>Figure 1: Here it can be appreciated how the negative quaternion is radialy oposed.</figcaption>\n",
    "    </div>\n",
    "</div>"
   ]
  },
  {
   "cell_type": "markdown",
   "metadata": {},
   "source": [
    "## Rotation cosine matrix relation\n",
    "\n",
    "$$\n",
    "[C] = \\begin{bmatrix}\n",
    " \\beta_0^2 + \\beta_1^2 - \\beta_2^2 - \\beta_3^2 &&  2(\\beta_1 \\beta_2 + \\beta_0 \\beta_3) && 2(\\beta_1 \\beta_3 - \\beta_0 \\beta_2) \\\\\n",
    "   2(\\beta_1 \\beta_2 - \\beta_0 \\beta_3) &&  \\beta_0^2 - \\beta_1^2 + \\beta_2^2 - \\beta_3^2 && 2(\\beta_2 \\beta_3 + \\beta_0 \\beta_1) \\\\\n",
    "   2(\\beta_1 \\beta_3 + \\beta_0 \\beta_2) && 2(\\beta_2 \\beta_3 - \\beta_0 \\beta_1) && \\beta_0^2 - \\beta_1^2 - \\beta_2^2 + \\beta_3^2 \\\\\n",
    "\n",
    "\\end{bmatrix}\n",
    "$$\n",
    "\n",
    "Inverse relationship\n",
    "\n",
    "$$\\beta_0 = \\pm \\frac{1}{2}\\sqrt{C_{11}+C_{22}+C_{33}+1}$$\n",
    "$$\\beta_1 = \\frac{C_{23}-C_{32}}{4\\beta_0}$$\n",
    "$$\\beta_2 = \\frac{C_{31}-C_{13}}{4\\beta_0}$$\n",
    "$$\\beta_3 = \\frac{C_{12}-C_{21}}{4\\beta_0}$$"
   ]
  },
  {
   "cell_type": "markdown",
   "metadata": {},
   "source": [
    "## Sheppard's method \n",
    "\n",
    "It is a robust method to compute the EP from $[C]$\n",
    "\n",
    "1. Find largest value of :\n",
    "$$\\beta_0^2 = \\frac{1}{4}(1+trace([C]))$$\n",
    "$$\\beta_1^2 = \\frac{1}{4}(1+ 2C_{11} - trace([C]))$$\n",
    "$$\\beta_2^2 = \\frac{1}{4}(1+ 2C_{22} - trace([C]))$$\n",
    "$$\\beta_3^2 = \\frac{1}{4}(1+ 2C_{33} - trace([C]))$$\n",
    "\n",
    "2. Compute remaining EPs using:\n",
    "$$\\beta_0 \\beta_1 = \\frac{C_{23} - C_{32}}{4}$$\n",
    "$$\\beta_0 \\beta_2 = \\frac{C_{31} - C_{13}}{4}$$\n",
    "$$\\beta_0 \\beta_3 = \\frac{C_{12} - C_{21}}{4}$$\n",
    "$$\\beta_1 \\beta_2 = \\frac{C_{12} + C_{21}}{4}$$\n",
    "$$\\beta_3 \\beta_1 = \\frac{C_{31} + C_{13}}{4}$$\n",
    "$$\\beta_2 \\beta_3 = \\frac{C_{23} + C_{32}}{4}$$"
   ]
  },
  {
   "cell_type": "markdown",
   "metadata": {},
   "source": [
    "## Adding Euler Parameters\n",
    "\n",
    "* You can add or substract two orientation using EP. By using DCM to add two rotation we:\n",
    "$$[FN(\\bm{\\beta})] = [FN(\\bm{\\beta}'')][FN(\\bm{\\beta}')]$$\n",
    "* However, using EP:\n",
    "$$\\begin{pmatrix} \\beta_0 \\\\ \\beta_1 \\\\ \\beta_2 \\\\ \\beta_3 \\end{pmatrix} =\n",
    "\\begin{bmatrix}\n",
    "\\beta_0'' && \\beta_1'' && \\beta_2'' && \\beta_3'' \\\\\n",
    "\\beta_1'' && \\beta_0'' && \\beta_3'' && \\beta_2'' \\\\\n",
    "\\beta_2'' && \\beta_3'' && \\beta_0'' && \\beta_1'' \\\\\n",
    "\\beta_3'' && \\beta_2'' && \\beta_1'' && \\beta_0'' \\\\\n",
    "\\end{bmatrix}\n",
    "\\begin{pmatrix} \\beta_0' \\\\ \\beta_1' \\\\ \\beta_2' \\\\ \\beta_3' \\end{pmatrix}\n",
    "$$\n",
    "> Where the matrix is orthogonal\n",
    "* By reshuffling the terms, we can also rewrite\n",
    "$$\\begin{pmatrix} \\beta_0 \\\\ \\beta_1 \\\\ \\beta_2 \\\\ \\beta_3 \\end{pmatrix} =\n",
    "\\begin{bmatrix}\n",
    "\\beta_0' && -\\beta_1' && -\\beta_2' && -\\beta_3' \\\\\n",
    "\\beta_1' && \\beta_0' && -\\beta_3' && \\beta_2' \\\\\n",
    "\\beta_2' && \\beta_3' && \\beta_0' && -\\beta_1' \\\\\n",
    "\\beta_3' && -\\beta_2' && \\beta_1' && \\beta_0' \\\\\n",
    "\\end{bmatrix}\n",
    "\\begin{pmatrix} \\beta_0'' \\\\ \\beta_1'' \\\\ \\beta_2'' \\\\ \\beta_3'' \\end{pmatrix}\n",
    "$$"
   ]
  },
  {
   "cell_type": "markdown",
   "metadata": {},
   "source": [
    "## Euler paramter Differential Equations\n",
    "\n",
    "$$\\begin{pmatrix} \\dot{\\beta}_0 \\\\ \\dot{\\beta}_1 \\\\ \\dot{\\beta}_2 \\\\ \\dot{\\beta}_2 \\end{pmatrix} =\n",
    "\\begin{bmatrix}\n",
    "\\beta_0 && -\\beta_1 && -\\beta_2 && -\\beta_3 \\\\\n",
    "\\beta_1 && \\beta_0 && -\\beta_3 && \\beta_2' \\\\\n",
    "\\beta_2 && \\beta_3 && \\beta_0 && -\\beta_1 \\\\\n",
    "\\beta_3 && -\\beta_2 && \\beta_1 && \\beta_0 \\\\\n",
    "\\end{bmatrix}\n",
    "\\begin{pmatrix} 0 \\\\ \\omega_1 \\\\ \\omega_2 \\\\ \\omega_3 \\end{pmatrix}\n",
    "$$"
   ]
  },
  {
   "cell_type": "markdown",
   "metadata": {},
   "source": [
    "Use Sheppeard's method to extract Euler Parameters from the following DCM\n",
    "$$[BN] = \n",
    "\\begin{bmatrix} \n",
    "0 && 1 && 0 \\\\\n",
    "0 && 0 && 1 \\\\\n",
    "1 && 0 && 0\n",
    "\\end{bmatrix}$$"
   ]
  },
  {
   "cell_type": "code",
   "execution_count": 1,
   "metadata": {},
   "outputs": [
    {
     "name": "stdout",
     "output_type": "stream",
     "text": [
      "[[0 1 0]\n",
      " [0 0 1]\n",
      " [1 0 0]]\n"
     ]
    },
    {
     "data": {
      "text/plain": [
       "{'b0': 0.5, 'b1': 0.5, 'b2': 0.5, 'b3': 0.5}"
      ]
     },
     "execution_count": 1,
     "metadata": {},
     "output_type": "execute_result"
    }
   ],
   "source": [
    "import numpy as np\n",
    "\n",
    "def sheppard(c:np.ndarray):\n",
    "    betas = {\"b0\":None, \"b1\":None, \"b2\":None, \"b3\":None}\n",
    "    \n",
    "    \n",
    "    max_beta = -np.inf\n",
    "    max_beta_str = \"\"\n",
    "    trace = c.trace()\n",
    "    for i, beta in enumerate(betas):\n",
    "        beta_sqr = abs(1 + trace if i==0 else (2*c[i-1][i-1] - trace))/4\n",
    "        \n",
    "        if beta_sqr > max_beta:\n",
    "            max_beta = beta_sqr\n",
    "            max_beta_str = beta\n",
    "    betas[max_beta_str] = np.sqrt(max_beta)\n",
    "    \n",
    "    finders = [ ([\"b0\",\"b1\"],[2,3],(-1)),\n",
    "                ([\"b0\",\"b2\"],[3,1],(-1)),\n",
    "                ([\"b0\",\"b3\"],[1,2],(-1)),\n",
    "                ([\"b2\",\"b3\"],[2,3],(1)),\n",
    "                ([\"b3\",\"b1\"],[3,1],(1)),\n",
    "                ([\"b1\",\"b2\"],[1,2],(1))]\n",
    "    def fill_if_possible(betas_:[str,str],indexes:[int,int],sign):\n",
    "        bx, by = betas_\n",
    "        i1, i2 = [i-1 for i in indexes]\n",
    "        if betas[bx] and betas[by]:\n",
    "            return\n",
    "        if betas[bx]:\n",
    "            betas[by] = (c[i1][i2] + sign*c[i2][i1])/(4 * betas[bx])\n",
    "        if betas[by]:\n",
    "            betas[bx] = (c[i1][i2] + sign*c[i2][i1])/(4 * betas[by])\n",
    "            \n",
    "    for betas_, indexes, sign in finders:\n",
    "        fill_if_possible(betas_, indexes, sign)\n",
    "        if not np.any(betas.values()):\n",
    "            break\n",
    "    return betas\n",
    "\n",
    "C = np.array([[0,1,0],[0,0,1],[1,0,0]])\n",
    "print(C)\n",
    "sheppard(C)"
   ]
  },
  {
   "cell_type": "code",
   "execution_count": 2,
   "metadata": {},
   "outputs": [
    {
     "name": "stdout",
     "output_type": "stream",
     "text": [
      "[[ 0.892539  0.157379 -0.422618]\n",
      " [-0.275451  0.932257 -0.23457 ]\n",
      " [ 0.357073  0.325773  0.875426]]\n"
     ]
    },
    {
     "data": {
      "text/plain": [
       "{'b0': 0.9617980557268766,\n",
       " 'b1': -0.14564985774912026,\n",
       " 'b2': 0.20266494493242407,\n",
       " 'b3': 0.11250542601505098}"
      ]
     },
     "execution_count": 2,
     "metadata": {},
     "output_type": "execute_result"
    }
   ],
   "source": [
    "C = np.array([[0.892539,0.157379,-0.422618],[-0.275451,0.932257,-0.234570],[0.357073,0.325773,0.875426]])\n",
    "print(C)\n",
    "sheppard(C)"
   ]
  }
 ],
 "metadata": {
  "kernelspec": {
   "display_name": "venv",
   "language": "python",
   "name": "python3"
  },
  "language_info": {
   "codemirror_mode": {
    "name": "ipython",
    "version": 3
   },
   "file_extension": ".py",
   "mimetype": "text/x-python",
   "name": "python",
   "nbconvert_exporter": "python",
   "pygments_lexer": "ipython3",
   "version": "3.11.0"
  }
 },
 "nbformat": 4,
 "nbformat_minor": 2
}
