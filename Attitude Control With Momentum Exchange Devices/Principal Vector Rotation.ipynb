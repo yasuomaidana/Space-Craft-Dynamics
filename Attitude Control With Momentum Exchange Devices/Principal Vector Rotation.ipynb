{
 "cells": [
  {
   "cell_type": "markdown",
   "metadata": {},
   "source": [
    "# Principal Vector Rotation"
   ]
  },
  {
   "cell_type": "markdown",
   "metadata": {},
   "source": [
    "We can express the $[C]$ matrix in terms of principal rotation vector (PRV) components $\\hat{e}$ as. [See figure 3.8 at page 121](../Analytical%20Mechanics%20of%20Space%20Systems-e.pdf)"
   ]
  },
  {
   "cell_type": "markdown",
   "metadata": {},
   "source": [
    "$$[C] = \\begin{bmatrix}\n",
    "e_{1}^2\\Sigma + c\\Phi & e_{1}e_{2}\\Sigma + e_3s\\Phi & e_{1}e_{3}\\Sigma - e_2s\\Phi \\\\\n",
    "e_{1}e_{2}\\Sigma - e_3s\\Phi & e_{2}^2\\Sigma + c\\Phi & e_{2}e_{3}\\Sigma + e_1s\\Phi \\\\\n",
    "e_{1}e_{3}\\Sigma + e_2s\\Phi & e_{2}e_{3}\\Sigma - e_1s\\Phi & e_{3}^2\\Sigma + c\\Phi\n",
    "\\end{bmatrix}$$\n",
    "$$\\Sigma = 1 - c\\Phi$$"
   ]
  },
  {
   "cell_type": "markdown",
   "metadata": {},
   "source": [
    "The inverse transformation from $[C]$ to $\\hat{e}$ (PRV) is found by inspecting the matrix structure"
   ]
  },
  {
   "cell_type": "markdown",
   "metadata": {},
   "source": [
    "$$cos{\\Phi} = \\frac{1}{2}(C_{11} + C_{22} + C_{33}-1)$$\n",
    "$$\\Phi' = \\Phi - 2\\pi$$\n",
    "$$\\hat{e} = \\begin{pmatrix}e_1 \\\\ e_2 \\\\ e_3 \\end{pmatrix} = \\frac{1}{2sin{\\Phi}}\\begin{pmatrix}C_{23} - C_{32}  \\\\ C_{31} - C_{13} \\\\ C_{12} - C_{21} \\end{pmatrix}\n",
    "$$"
   ]
  },
  {
   "cell_type": "markdown",
   "metadata": {},
   "source": [
    "## Excersice\n",
    "Given the DCM $[BN]= \\begin{bmatrix} 0 & 1 & 0 \\\\ 0 & 0 & 1 \\\\ 1 & 0 & 0 \\end{bmatrix}$ \n",
    "Find:\n",
    "* The corresponding short and positive principle rotation angle $\\phi$ in degrees\n",
    "* The corresponding principle rotation vector $\\hat{e}$"
   ]
  },
  {
   "cell_type": "code",
   "execution_count": 1,
   "metadata": {},
   "outputs": [
    {
     "data": {
      "text/plain": [
       "array([[0, 1, 0],\n",
       "       [0, 0, 1],\n",
       "       [1, 0, 0]])"
      ]
     },
     "execution_count": 1,
     "metadata": {},
     "output_type": "execute_result"
    }
   ],
   "source": [
    "import numpy as np\n",
    "bn = np.array([[0,1,0],[0,0,1],[1,0,0]])\n",
    "bn"
   ]
  },
  {
   "cell_type": "code",
   "execution_count": 2,
   "metadata": {},
   "outputs": [
    {
     "name": "stdout",
     "output_type": "stream",
     "text": [
      "Phi from C is 120.0\n"
     ]
    }
   ],
   "source": [
    "def phi_from_c(c:np.ndarray):\n",
    "    cos_phi = -1\n",
    "    for i in range(3):\n",
    "        cos_phi += c[i][i]\n",
    "    cos_phi /= 2\n",
    "    return np.rad2deg(np.arccos(cos_phi))\n",
    "print(f\"Phi from C is {round(phi_from_c(bn),3)}\")"
   ]
  },
  {
   "cell_type": "code",
   "execution_count": 3,
   "metadata": {},
   "outputs": [
    {
     "name": "stdout",
     "output_type": "stream",
     "text": [
      "e from C is [0.57735027 0.57735027 0.57735027]\n"
     ]
    }
   ],
   "source": [
    "def prv_from_c(c:np.ndarray):\n",
    "    phi = np.deg2rad(phi_from_c(c))\n",
    "    indexes = [[2,3], [3,1], [1,2]]\n",
    "    extractor = lambda inds: c[inds[0]-1][inds[1]-1]\n",
    "    cosv = [extractor(indxs) - extractor(indxs[::-1]) for indxs in indexes]\n",
    "    return cosv/(2*np.sin(phi))\n",
    "print(f\"e from C is {prv_from_c(bn)}\")"
   ]
  }
 ],
 "metadata": {
  "kernelspec": {
   "display_name": "venv",
   "language": "python",
   "name": "python3"
  },
  "language_info": {
   "codemirror_mode": {
    "name": "ipython",
    "version": 3
   },
   "file_extension": ".py",
   "mimetype": "text/x-python",
   "name": "python",
   "nbconvert_exporter": "python",
   "pygments_lexer": "ipython3",
   "version": "3.11.0"
  }
 },
 "nbformat": 4,
 "nbformat_minor": 2
}
