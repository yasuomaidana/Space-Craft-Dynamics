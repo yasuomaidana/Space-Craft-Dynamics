{
 "cells": [
  {
   "cell_type": "markdown",
   "metadata": {},
   "source": [
    "# Principal Vector Rotation"
   ]
  },
  {
   "cell_type": "markdown",
   "metadata": {},
   "source": [
    "We can express the $[C]$ matrix in terms of principal rotation vector (PRV) components $\\hat{e}$ as. [See figure 3.8 at page 121](../Analytical%20Mechanics%20of%20Space%20Systems-e.pdf)"
   ]
  },
  {
   "cell_type": "markdown",
   "metadata": {},
   "source": [
    "$$[C] = \\begin{bmatrix}\n",
    "e_{1}^2\\Sigma + c\\Phi & e_{1}e_{2}\\Sigma + e_3s\\Phi & e_{1}e_{3}\\Sigma - e_2s\\Phi \\\\\n",
    "e_{1}e_{2}\\Sigma - e_3s\\Phi & e_{2}^2\\Sigma + c\\Phi & e_{2}e_{3}\\Sigma + e_1s\\Phi \\\\\n",
    "e_{1}e_{3}\\Sigma + e_2s\\Phi & e_{2}e_{3}\\Sigma - e_1s\\Phi & e_{3}^2\\Sigma + c\\Phi\n",
    "\\end{bmatrix}$$\n",
    "$$\\Sigma = 1 - c\\Phi$$"
   ]
  },
  {
   "cell_type": "markdown",
   "metadata": {},
   "source": [
    "The inverse transformation from $[C]$ to $\\hat{e}$ (PRV) is found by inspecting the matrix structure"
   ]
  },
  {
   "cell_type": "markdown",
   "metadata": {},
   "source": [
    "$$cos{\\Phi} = \\frac{1}{2}(C_{11} + C_{22} + C_{33}-1)$$\n",
    "$$\\Phi' = \\Phi - 2\\pi$$\n",
    "$$\\hat{e} = \\begin{pmatrix}e_1 \\\\ e_2 \\\\ e_3 \\end{pmatrix} = \\frac{1}{2sin{\\Phi}}\\begin{pmatrix}C_{23} - C_{32}  \\\\ C_{31} - C_{13} \\\\ C_{12} - C_{21} \\end{pmatrix}\n",
    "$$"
   ]
  },
  {
   "cell_type": "code",
   "execution_count": null,
   "metadata": {},
   "outputs": [],
   "source": []
  }
 ],
 "metadata": {
  "kernelspec": {
   "display_name": "venv",
   "language": "python",
   "name": "python3"
  },
  "language_info": {
   "name": "python",
   "version": "3.11.0"
  }
 },
 "nbformat": 4,
 "nbformat_minor": 2
}
